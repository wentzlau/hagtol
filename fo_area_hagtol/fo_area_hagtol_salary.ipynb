{
 "cells": [
  {
   "cell_type": "code",
   "execution_count": 14,
   "metadata": {},
   "outputs": [
    {
     "name": "stdout",
     "output_type": "stream",
     "text": [
      "mp d:\\dev\\hagstova\\git\\hagtol\\fo_area_hagtol\n"
     ]
    }
   ],
   "source": [
    "import sys\n",
    "from pathlib import Path\n",
    "\n",
    "# in jupyter (lab / notebook), based on notebook path\n",
    "module_path = str(Path.cwd() )\n",
    "print(\"mp\", module_path)\n",
    "# in standard python\n",
    "#module_path = str(Path.cwd(__file__).parents[0] / \"py\")\n",
    "\n",
    "if module_path not in sys.path:\n",
    "    sys.path.append(module_path)\n",
    "\n",
    "\n",
    "#import requests\n",
    "#from pyaxis import pyaxis\n",
    "import pandas as pd\n",
    "import matplotlib.pyplot as plt\n",
    "import numpy as np\n",
    "import mercury as mr\n",
    "import data_helpers as dh\n",
    "import plot_helpers as ph\n",
    "api = \"https://statbank.hagstova.fo:443/api/v1/fo/H2/IP/IP01/innt_nbs.px\""
   ]
  },
  {
   "cell_type": "code",
   "execution_count": 15,
   "metadata": {},
   "outputs": [],
   "source": [
    "\n",
    "\n",
    "json_body_salary = {\n",
    "  \"query\": [\n",
    "    {\n",
    "      \"code\": \"unit\",\n",
    "      \"selection\": {\n",
    "        \"filter\": \"item\",\n",
    "        \"values\": [\n",
    "          \"DKK\"\n",
    "        ]\n",
    "      }\n",
    "    },\n",
    "    {\n",
    "      \"code\": \"sex\",\n",
    "      \"selection\": {\n",
    "        \"filter\": \"item\",\n",
    "        \"values\": [\n",
    "          \"TOT\",\n",
    "#          \"M\",\n",
    "#          \"F\"\n",
    "        ]\n",
    "      }\n",
    "    },\n",
    "    {\n",
    "      \"code\": \"region\",\n",
    "      \"selection\": {\n",
    "        \"filter\": \"item\",\n",
    "        \"values\": [\n",
    "          \"9999\",\n",
    "          \"4100\",\n",
    "          \"4200\",\n",
    "          \"4300\",\n",
    "          \"4700\",\n",
    "          \"4400\",\n",
    "          \"4500\",\n",
    "          \"4600\"\n",
    "        ]\n",
    "      }\n",
    "    },\n",
    "    {\n",
    "      \"code\": \"age\",\n",
    "      \"selection\": {\n",
    "        \"filter\": \"item\",\n",
    "        \"values\": [\n",
    "          \"Y_GE15\"\n",
    "          \n",
    "        ]\n",
    "      }\n",
    "    },\n",
    "    {\n",
    "      \"code\": \"year\",\n",
    "      \"selection\": {\n",
    "        \"filter\": \"item\",\n",
    "        \"values\": [\n",
    "          \"2020\",\n",
    "#          \"2015\",\n",
    "#          \"2010\"\n",
    "        ]\n",
    "      }\n",
    "    },\n",
    "    {\n",
    "      \"code\": \"percentile intervals\",\n",
    "      \"selection\": {\n",
    "        \"filter\": \"item\",\n",
    "        \"values\": [\n",
    "          \"P1_AVG\",\n",
    "          \"P25_AVG\",\n",
    "          \"P50_AVG\",\n",
    "          \"P75_AVG\",\n",
    "#          \"P90_AVG\",\n",
    "#          \"P95_AVG\",\n",
    "#          \"P99_AVG\",\n",
    "          \"P100_AVG\"\n",
    "        ]\n",
    "      }\n",
    "    }\n",
    "  ],\n",
    "  \"response\": {\n",
    "    \"format\": \"px\"\n",
    "  }\n",
    "}\n",
    "\n"
   ]
  },
  {
   "cell_type": "code",
   "execution_count": 16,
   "metadata": {},
   "outputs": [
    {
     "data": {
      "application/mercury+json": {
       "choices": [
        "suduroy",
        "sandoy"
       ],
       "code_uid": "Select.0.40.16.3-rand0fa62bc7",
       "disabled": false,
       "hidden": false,
       "label": "Øki",
       "model_id": "5ab0037f583346d3969da38e265e80d5",
       "url_key": "",
       "value": "suduroy",
       "widget": "Select"
      },
      "application/vnd.jupyter.widget-view+json": {
       "model_id": "5ab0037f583346d3969da38e265e80d5",
       "version_major": 2,
       "version_minor": 0
      },
      "text/plain": [
       "mercury.Select"
      ]
     },
     "metadata": {},
     "output_type": "display_data"
    }
   ],
   "source": [
    "regions = dh.get_regions()\n",
    "\n",
    "region = mr.Select(value=\"suduroy\", choices=regions, label=\"Øki\")"
   ]
  },
  {
   "cell_type": "code",
   "execution_count": 17,
   "metadata": {},
   "outputs": [
    {
     "data": {
      "application/mercury+json": {
       "choices": [
        "Øll",
        "tvo",
        "famjin",
        "hvalba",
        "hov",
        "vag",
        "sumba"
       ],
       "code_uid": "Select.0.40.16.1-rand18bcf113",
       "disabled": false,
       "hidden": false,
       "label": "Kommuna",
       "model_id": "b0b94ea2bd79432ab3a15f4947bc3ec5",
       "url_key": "",
       "value": "Øll",
       "widget": "Select"
      },
      "application/vnd.jupyter.widget-view+json": {
       "model_id": "b0b94ea2bd79432ab3a15f4947bc3ec5",
       "version_major": 2,
       "version_minor": 0
      },
      "text/plain": [
       "mercury.Select"
      ]
     },
     "metadata": {},
     "output_type": "display_data"
    }
   ],
   "source": [
    "municipality = mr.Select(choices= dh.get_municipalities(region.value), label=\"Kommuna\")"
   ]
  },
  {
   "cell_type": "code",
   "execution_count": 18,
   "metadata": {},
   "outputs": [
    {
     "name": "stdout",
     "output_type": "stream",
     "text": [
      "load px_cache/salery-data-suduroy-Øll.px\n"
     ]
    }
   ],
   "source": [
    "filter, value = dh.get_filter(region.value, municipality.value)\n",
    "#print(filter, value)\n",
    "#json_body_salary[\"query\"][0][\"selection\"][\"filter\"] = filter\n",
    "#json_body_salary[\"query\"][0][\"selection\"][\"values\"] = [value]\n",
    "#print(\"fv\", filter, value, json_body)\n",
    "df = dh.fetch_data(\"v1/fo/H2/IP/IP01/innt_nbs.px\", json_body_salary, f\"salery-data-{region.value}-{municipality.value}\")\n",
    "#df['date']=pd.to_datetime(df['month']+df['year'].astype(str),format='%b%Y')\n",
    "df['value']=pd.to_numeric(df['DATA'])\n"
   ]
  },
  {
   "cell_type": "code",
   "execution_count": 22,
   "metadata": {},
   "outputs": [
    {
     "name": "stdout",
     "output_type": "stream",
     "text": [
      "   year                  region  10             25             50  \\\n",
      "0  2020           Total(region) NaN  168703.000000  282215.189728   \n",
      "1  2020          Norðoya region NaN  168696.100000  267019.215510   \n",
      "2  2020       Eysturoyar region NaN  168703.000000  280167.616044   \n",
      "3  2020   Norðstreymoyar region NaN  168244.673226  278682.688065   \n",
      "4  2020  Suðurstreymoyar region NaN  170497.768137  306109.534845   \n",
      "5  2020             Vága region NaN  163514.269231  269819.171154   \n",
      "6  2020         Sandoyar region NaN  165109.181818  251483.510000   \n",
      "7  2020        Suðuroyar region NaN  159168.816216  241384.729459   \n",
      "\n",
      "              75  90  \n",
      "0  433940.702351 NaN  \n",
      "1  419513.987143 NaN  \n",
      "2  430770.801099 NaN  \n",
      "3  428415.495667 NaN  \n",
      "4  455396.763043 NaN  \n",
      "5  424125.600800 NaN  \n",
      "6  405857.128000 NaN  \n",
      "7  389518.835278 NaN  \n"
     ]
    },
    {
     "ename": "ValueError",
     "evalue": "Axis limits cannot be NaN or Inf",
     "output_type": "error",
     "traceback": [
      "\u001b[1;31m---------------------------------------------------------------------------\u001b[0m",
      "\u001b[1;31mValueError\u001b[0m                                Traceback (most recent call last)",
      "Cell \u001b[1;32mIn[22], line 46\u001b[0m\n\u001b[0;32m     34\u001b[0m \u001b[39mfor\u001b[39;00m row \u001b[39min\u001b[39;00m bxf\u001b[39m.\u001b[39miterrows():\n\u001b[0;32m     35\u001b[0m     \u001b[39m#x = row[1][\"label\"]\u001b[39;00m\n\u001b[0;32m     36\u001b[0m     box_data\u001b[39m.\u001b[39mappend([\n\u001b[0;32m     37\u001b[0m         row[\u001b[39m1\u001b[39m][\u001b[39m\"\u001b[39m\u001b[39mlabel\u001b[39m\u001b[39m\"\u001b[39m][:\u001b[39m-\u001b[39m\u001b[39m6\u001b[39m],\n\u001b[0;32m     38\u001b[0m         row[\u001b[39m1\u001b[39m][\u001b[39m10\u001b[39m],\n\u001b[1;32m   (...)\u001b[0m\n\u001b[0;32m     43\u001b[0m         \u001b[39mNone\u001b[39;00m\n\u001b[0;32m     44\u001b[0m     ])\n\u001b[1;32m---> 46\u001b[0m ph\u001b[39m.\u001b[39;49mbox_plot_2(box_data, )\n\u001b[0;32m     47\u001b[0m \u001b[39m#out = boxplot(bxf)\u001b[39;00m\n\u001b[0;32m     49\u001b[0m \u001b[39mprint\u001b[39m(gk\u001b[39m.\u001b[39mget_group(\u001b[39m'\u001b[39m\u001b[39m2020\u001b[39m\u001b[39m'\u001b[39m))\n",
      "File \u001b[1;32md:\\dev\\hagstova\\git\\hagtol\\fo_area_hagtol\\plot_helpers.py:79\u001b[0m, in \u001b[0;36mbox_plot_2\u001b[1;34m(percentiles, *args, **kwargs)\u001b[0m\n\u001b[0;32m     75\u001b[0m         max_y \u001b[39m=\u001b[39m \u001b[39mmax\u001b[39m(q4_end, max_y)\n\u001b[0;32m     77\u001b[0m     \u001b[39m# The y axis is rescaled to fit the new box plot completely with 10% \u001b[39;00m\n\u001b[0;32m     78\u001b[0m     \u001b[39m# of the maximum value at both ends\u001b[39;00m\n\u001b[1;32m---> 79\u001b[0m     a\u001b[39m.\u001b[39;49mset_ylim([min_y\u001b[39m*\u001b[39;49m\u001b[39m1.1\u001b[39;49m, max_y\u001b[39m*\u001b[39;49m\u001b[39m1.1\u001b[39;49m])\n\u001b[0;32m     80\u001b[0m a\u001b[39m.\u001b[39mset_xticklabels(labels, rotation \u001b[39m=\u001b[39m \u001b[39m45\u001b[39m)\n\u001b[0;32m     81\u001b[0m \u001b[39m# If redraw is set to true, the canvas is updated.\u001b[39;00m\n\u001b[0;32m     82\u001b[0m \u001b[39m#if redraw:\u001b[39;00m\n\u001b[0;32m     83\u001b[0m \u001b[39m#    ax.figure.canvas.draw()\u001b[39;00m\n",
      "File \u001b[1;32mc:\\Python39\\lib\\site-packages\\matplotlib\\axes\\_base.py:3852\u001b[0m, in \u001b[0;36m_AxesBase.set_ylim\u001b[1;34m(self, bottom, top, emit, auto, ymin, ymax)\u001b[0m\n\u001b[0;32m   3849\u001b[0m     top \u001b[39m=\u001b[39m ymax\n\u001b[0;32m   3851\u001b[0m \u001b[39mself\u001b[39m\u001b[39m.\u001b[39m_process_unit_info([(\u001b[39m\"\u001b[39m\u001b[39my\u001b[39m\u001b[39m\"\u001b[39m, (bottom, top))], convert\u001b[39m=\u001b[39m\u001b[39mFalse\u001b[39;00m)\n\u001b[1;32m-> 3852\u001b[0m bottom \u001b[39m=\u001b[39m \u001b[39mself\u001b[39;49m\u001b[39m.\u001b[39;49m_validate_converted_limits(bottom, \u001b[39mself\u001b[39;49m\u001b[39m.\u001b[39;49mconvert_yunits)\n\u001b[0;32m   3853\u001b[0m top \u001b[39m=\u001b[39m \u001b[39mself\u001b[39m\u001b[39m.\u001b[39m_validate_converted_limits(top, \u001b[39mself\u001b[39m\u001b[39m.\u001b[39mconvert_yunits)\n\u001b[0;32m   3855\u001b[0m \u001b[39mif\u001b[39;00m bottom \u001b[39mis\u001b[39;00m \u001b[39mNone\u001b[39;00m \u001b[39mor\u001b[39;00m top \u001b[39mis\u001b[39;00m \u001b[39mNone\u001b[39;00m:\n\u001b[0;32m   3856\u001b[0m     \u001b[39m# Axes init calls set_ylim(0, 1) before get_ylim() can be called,\u001b[39;00m\n\u001b[0;32m   3857\u001b[0m     \u001b[39m# so only grab the limits if we really need them.\u001b[39;00m\n",
      "File \u001b[1;32mc:\\Python39\\lib\\site-packages\\matplotlib\\axes\\_base.py:3443\u001b[0m, in \u001b[0;36m_AxesBase._validate_converted_limits\u001b[1;34m(self, limit, convert)\u001b[0m\n\u001b[0;32m   3440\u001b[0m converted_limit \u001b[39m=\u001b[39m convert(limit)\n\u001b[0;32m   3441\u001b[0m \u001b[39mif\u001b[39;00m (\u001b[39misinstance\u001b[39m(converted_limit, Real)\n\u001b[0;32m   3442\u001b[0m         \u001b[39mand\u001b[39;00m \u001b[39mnot\u001b[39;00m np\u001b[39m.\u001b[39misfinite(converted_limit)):\n\u001b[1;32m-> 3443\u001b[0m     \u001b[39mraise\u001b[39;00m \u001b[39mValueError\u001b[39;00m(\u001b[39m\"\u001b[39m\u001b[39mAxis limits cannot be NaN or Inf\u001b[39m\u001b[39m\"\u001b[39m)\n\u001b[0;32m   3444\u001b[0m \u001b[39mreturn\u001b[39;00m converted_limit\n",
      "\u001b[1;31mValueError\u001b[0m: Axis limits cannot be NaN or Inf"
     ]
    },
    {
     "data": {
      "image/png": "[encoded data removed]",
      "text/plain": [
       "<Figure size 640x480 with 1 Axes>"
      ]
     },
     "metadata": {},
     "output_type": "display_data"
    }
   ],
   "source": [
    "sdf = pd.DataFrame()\n",
    "\n",
    "measure = \"Gross income\"\n",
    "year = \"2020\"\n",
    "\n",
    "fdf = df\n",
    "sdf['year'] = fdf['year'].loc[(fdf[\"measure\"] == measure ) & (fdf[\"sex\"] == \"Total (sex)\") &(fdf[\"percentile intervals\"] == \"1\" )].reset_index()['year']\n",
    "sdf['region'] = fdf['region'].loc[(fdf[\"measure\"] == measure ) & (fdf[\"sex\"] == \"Total (sex)\") &(fdf[\"percentile intervals\"] == \"1\" )].reset_index()['region']\n",
    "#sdf['1'] =  fdf['value'].loc[(fdf[\"measure\"] == measure ) & (fdf[\"sex\"] == \"Total (sex)\") &(fdf[\"percentile intervals\"] == \"1\" )].reset_index()['value']\n",
    "sdf['10'] = fdf['value'].loc[(fdf[\"measure\"] == measure ) & (fdf[\"sex\"] == \"Total (sex)\") &(fdf[\"percentile intervals\"] == \"10\" )].reset_index()['value']\n",
    "sdf['25'] = fdf['value'].loc[(fdf[\"measure\"] == measure ) & (fdf[\"sex\"] == \"Total (sex)\") &(fdf[\"percentile intervals\"] == \"25\" )].reset_index()['value']\n",
    "sdf['50'] = fdf['value'].loc[(fdf[\"measure\"] == measure ) & (fdf[\"sex\"] == \"Total (sex)\") &(fdf[\"percentile intervals\"] == \"50\" )].reset_index()['value']\n",
    "sdf['75'] = fdf['value'].loc[(fdf[\"measure\"] == measure ) & (fdf[\"sex\"] == \"Total (sex)\") &(fdf[\"percentile intervals\"] == \"75\" )].reset_index()['value']\n",
    "sdf['90'] = fdf['value'].loc[(fdf[\"measure\"] == measure ) & (fdf[\"sex\"] == \"Total (sex)\") &(fdf[\"percentile intervals\"] == \"90\" )].reset_index()['value']\n",
    "#sdf['100'] = fdf['value'].loc[(fdf[\"measure\"] == measure ) & (fdf[\"sex\"] == \"Total (sex)\") &(fdf[\"percentile intervals\"] == \"100\" )].reset_index()['value']\n",
    "print(sdf)\n",
    "\n",
    "\n",
    "\n",
    "gk = sdf.groupby(\"year\")\n",
    "#years = list(sdf[\"year\"].drop_duplicates())\n",
    "g = gk.get_group('2020')\n",
    "bxf = pd.DataFrame()\n",
    "bxf[\"label\"] = g[\"region\"]\n",
    "bxf[\"median\"] =  g['50']\n",
    "bxf[\"mean\"] =  g['50']\n",
    "bxf[10] = g['10']\n",
    "bxf[25] = g['25']\n",
    "bxf[50] =  g['50']\n",
    "bxf[75] = g['75']\n",
    "bxf[90] = g['90']\n",
    "\n",
    "box_data = []\n",
    "for row in bxf.iterrows():\n",
    "    #x = row[1][\"label\"]\n",
    "    box_data.append([\n",
    "        row[1][\"label\"][:-6],\n",
    "        row[1][10],\n",
    "        row[1][25],\n",
    "        row[1][50],\n",
    "        row[1][75],\n",
    "        row[1][90],\n",
    "        None\n",
    "    ])\n",
    "    \n",
    "ph.box_plot_2(box_data, )\n",
    "#out = boxplot(bxf)\n",
    "\n",
    "print(gk.get_group('2020'))\n",
    "\n",
    "gkr = sdf.groupby(\"region\")\n",
    "\n",
    "gkrx = gkr.get_group('Suðuroyar region')\n",
    "#print(gkrx)\n",
    "\n",
    "#print(gkr)\n",
    "\n",
    "#gkr.get_group('2020').plot(x=\"year\", figsize=(12,9), kind=\"box\")\n",
    "#gkrx.boxplot(x=\"year\", figsize=(12,9))\n",
    "plt.show()\n",
    "\n",
    "\n"
   ]
  },
  {
   "cell_type": "code",
   "execution_count": null,
   "metadata": {},
   "outputs": [],
   "source": []
  }
 ],
 "metadata": {
  "kernelspec": {
   "display_name": "Python 3",
   "language": "python",
   "name": "python3"
  },
  "language_info": {
   "codemirror_mode": {
    "name": "ipython",
    "version": 3
   },
   "file_extension": ".py",
   "mimetype": "text/x-python",
   "name": "python",
   "nbconvert_exporter": "python",
   "pygments_lexer": "ipython3",
   "version": "3.9.2"
  },
  "orig_nbformat": 4
 },
 "nbformat": 4,
 "nbformat_minor": 2
}
